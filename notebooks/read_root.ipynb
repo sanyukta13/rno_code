{
 "cells": [
  {
   "cell_type": "markdown",
   "id": "aa7882aa",
   "metadata": {},
   "source": [
    "## imports"
   ]
  },
  {
   "cell_type": "code",
   "execution_count": 3,
   "id": "e6d1b5f0",
   "metadata": {},
   "outputs": [],
   "source": [
    "# to read any rno-g data root file and plot waveforms and extract analysis variables such as snr\n",
    "import sys, os\n",
    "sys.path.append(os.path.abspath('/data/user/sanyukta/rno_code'))\n",
    "from reading.data_reading import *\n",
    "from functions.functions import *"
   ]
  },
  {
   "cell_type": "markdown",
   "id": "44b6d4e2",
   "metadata": {},
   "source": [
    "## reading root"
   ]
  },
  {
   "cell_type": "code",
   "execution_count": 4,
   "id": "d0e1cc9d",
   "metadata": {},
   "outputs": [
    {
     "name": "stdout",
     "output_type": "stream",
     "text": [
      "\n",
      " reading /data/user/sanyukta/rno_data/cal_pulser/station11/fiber0/0dB/station11_run1785_combined.root ......\n"
     ]
    },
    {
     "name": "stderr",
     "output_type": "stream",
     "text": [
      "\u001b[35;1mWARNING - \u001b[0m\u001b[33m2025-09-03 02:16:52,379 - \u001b[32mNuRadioReco.RNO_G.channelBlockOffsetFitter - \u001b[0mTrace has large block offsets (>53% of Vrms), removing by fitting.\n",
      "/tmp/ipykernel_3804306/3775327112.py:11: RuntimeWarning: overflow encountered in scalar subtract\n",
      "  selector = [lambda event_info: (event_info.sysclk - event_info.sysclkLastPPS[0]) % (2**32) <= CAL_PULSER_THRESHOLD]\n"
     ]
    }
   ],
   "source": [
    "st_id = 11\n",
    "att = 0\n",
    "fiber = 0\n",
    "run = 1785\n",
    "input_dir = f'/data/user/sanyukta/rno_data/cal_pulser/station{st_id}/fiber{fiber}/{att}dB/station{st_id}_run{run}_combined.root'\n",
    "# alternatively can use any path to the desired root file\n",
    "if not os.path.exists(input_dir):\n",
    "    raise FileNotFoundError(f\"Input file {input_dir} does not exist.\")\n",
    "\n",
    "CAL_PULSER_THRESHOLD = 200000 #for cal-pulser run filter\n",
    "selector = [lambda event_info: (event_info.sysclk - event_info.sysclkLastPPS[0]) % (2**32) <= CAL_PULSER_THRESHOLD]\n",
    "events, times, volts = get_eventsvoltstraces(basic_read_root(input_dir, selector), band_pass=1, pulse_filter=1)"
   ]
  },
  {
   "cell_type": "markdown",
   "id": "e13a62da",
   "metadata": {},
   "source": [
    "## plotting waveform"
   ]
  },
  {
   "cell_type": "code",
   "execution_count": null,
   "id": "01540bfc",
   "metadata": {},
   "outputs": [],
   "source": [
    "ch_ids = [0,1,2,3,8,4,5,6,7]\n",
    "avg_volt = {}\n",
    "for ch in ch_ids:\n",
    "    volt = [volts[event_id][ch] for event_id, event in enumerate(events)]\n"
   ]
  }
 ],
 "metadata": {
  "kernelspec": {
   "display_name": "Python 3",
   "language": "python",
   "name": "python3"
  },
  "language_info": {
   "codemirror_mode": {
    "name": "ipython",
    "version": 3
   },
   "file_extension": ".py",
   "mimetype": "text/x-python",
   "name": "python",
   "nbconvert_exporter": "python",
   "pygments_lexer": "ipython3",
   "version": "3.11.3"
  }
 },
 "nbformat": 4,
 "nbformat_minor": 5
}
